{
 "cells": [
  {
   "cell_type": "code",
   "execution_count": 1,
   "metadata": {
    "collapsed": true
   },
   "outputs": [],
   "source": [
    "# Title: Information Theory - Ex. 1.3\n",
    "# Author: Vedat Sinan Ural\n",
    "# Contact: vsural@gmail.com\n",
    "\n",
    "# Code source(with lots of modifications): http://stackoverflow.com/q/11373192\n",
    "\n",
    "import numpy as np\n",
    "from numpy.random import random_sample\n",
    "\n",
    "\n",
    "def weighted_values(values, probabilities, size):\n",
    "    \"\"\"\n",
    "    Function that creates a numpy array of random variables\n",
    "    given an alphabet and a probability distribution.\n",
    "\n",
    "    It returns an array of values occured in the sequence\n",
    "    (unique_elements), their number of occurence(counts), and\n",
    "    a Boolean called typical.\n",
    "\n",
    "    typical = 0 for a typical sequence and 1 for an atypical one.\n",
    "\n",
    "    values: Values of your random variables\n",
    "    probabilities: Probability distribution\n",
    "    size: Size of your output(i.e. Length of the message)\n",
    "    \"\"\"\n",
    "\n",
    "    # Create the sequence according to the values and probabilities\n",
    "    bins = np.cumsum(probabilities)\n",
    "    sequence = values[np.digitize(random_sample(size), bins)]\n",
    "\n",
    "    # Finding the element counts\n",
    "    unique_elements, counts = np.unique(sequence, return_counts=True)\n",
    "\n",
    "    # Check if the sequence is typical or not\n",
    "    if len(counts) == 1:\n",
    "        typical = 0\n",
    "    elif len(counts) == 2 and counts[1] == 1:\n",
    "        typical = 0\n",
    "    else:\n",
    "        typical = 1  # Atypical case\n",
    "\n",
    "    return unique_elements, counts, typical\n"
   ]
  },
  {
   "cell_type": "code",
   "execution_count": 3,
   "metadata": {
    "collapsed": false
   },
   "outputs": [
    {
     "name": "stdout",
     "output_type": "stream",
     "text": [
      "['A'] [16]\n",
      "Typical\n"
     ]
    }
   ],
   "source": [
    "# Determine the size of the output, values and probabilities:\n",
    "N = 16\n",
    "values = np.array([\"A\", \"B\", \"C\", \"D\"])\n",
    "probabilities = np.array([0.985, 0.005, 0.005, 0.005])\n",
    "\n",
    "unique_els, counts, typical = weighted_values(values, probabilities, N)\n",
    "print unique_els, counts\n",
    "\n",
    "if typical == 0:\n",
    "    print \"Typical\"\n",
    "else:\n",
    "    print \"Atypical\""
   ]
  },
  {
   "cell_type": "code",
   "execution_count": null,
   "metadata": {
    "collapsed": true
   },
   "outputs": [],
   "source": []
  }
 ],
 "metadata": {
  "kernelspec": {
   "display_name": "Python 2",
   "language": "python",
   "name": "python2"
  },
  "language_info": {
   "codemirror_mode": {
    "name": "ipython",
    "version": 2
   },
   "file_extension": ".py",
   "mimetype": "text/x-python",
   "name": "python",
   "nbconvert_exporter": "python",
   "pygments_lexer": "ipython2",
   "version": "2.7.10"
  }
 },
 "nbformat": 4,
 "nbformat_minor": 0
}
